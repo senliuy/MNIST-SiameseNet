{
 "cells": [
  {
   "cell_type": "code",
   "execution_count": 37,
   "metadata": {},
   "outputs": [
    {
     "name": "stdout",
     "output_type": "stream",
     "text": [
      "Extracting ./data/train-images-idx3-ubyte.gz\n",
      "Extracting ./data/train-labels-idx1-ubyte.gz\n",
      "Extracting ./data/t10k-images-idx3-ubyte.gz\n",
      "Extracting ./data/t10k-labels-idx1-ubyte.gz\n"
     ]
    },
    {
     "name": "stderr",
     "output_type": "stream",
     "text": [
      "/usr/local/lib/python2.7/site-packages/ipykernel_launcher.py:58: UserWarning: The `merge` function is deprecated and will be removed after 08/2017. Use instead layers from `keras.layers.merge`, e.g. `add`, `concatenate`, etc.\n",
      "/usr/local/lib/python2.7/site-packages/ipykernel_launcher.py:62: UserWarning: Update your `Model` call to the Keras 2 API: `Model(outputs=Tensor(\"de..., inputs=[<tf.Tenso...)`\n"
     ]
    },
    {
     "data": {
      "text/plain": [
       "521249"
      ]
     },
     "execution_count": 37,
     "metadata": {},
     "output_type": "execute_result"
    }
   ],
   "source": [
    "from keras.layers import Input, Conv2D, Lambda, merge, Dense, Flatten,MaxPooling2D\n",
    "from keras.models import Model, Sequential\n",
    "from keras.regularizers import l2\n",
    "from keras import backend as K\n",
    "from keras.optimizers import SGD,Adam\n",
    "from keras.losses import binary_crossentropy\n",
    "from keras.callbacks import ModelCheckpoint\n",
    "import numpy.random as rng\n",
    "import numpy as np\n",
    "import os\n",
    "import matplotlib.pyplot as plt\n",
    "from sklearn.utils import shuffle\n",
    "import tensorflow as tf\n",
    "from tensorflow.examples.tutorials.mnist import input_data\n",
    "mnist = input_data.read_data_sets(\"./data/\", one_hot = False)\n",
    "\n",
    "\n",
    "def W_init(shape,name=None):\n",
    "    \"\"\"Initialize weights as in paper\"\"\"\n",
    "    values = rng.normal(loc=0,scale=1e-2,size=shape)\n",
    "    return K.variable(values,name=name)\n",
    "#//TODO: figure out how to initialize layer biases in keras.\n",
    "def b_init(shape,name=None):\n",
    "    \"\"\"Initialize bias as in paper\"\"\"\n",
    "    values=rng.normal(loc=0.5,scale=1e-2,size=shape)\n",
    "    return K.variable(values,name=name)\n",
    "\n",
    "def preprocee_mnist(images, labels):\n",
    "    min_num = 60000\n",
    "    for i in range(0, 10):\n",
    "        min_num = min(min_num, len(np.where(labels == i)[0]))\n",
    "    dataset = np.zeros((10, min_num, 28, 28))\n",
    "    idx_arr = np.zeros((10,1),dtype=int)\n",
    "    for idx in range(images.shape[0]):\n",
    "        if(idx_arr[int(labels[idx])] < min_num):\n",
    "            dataset[int(labels[idx]), idx_arr[labels[idx]], :, :] = np.reshape(images[idx],(28,28))\n",
    "            idx_arr[labels[idx]] += 1\n",
    "    return dataset[0:3,:,:,:] # Using 0-2 temporarily， 0-9 can also be used, but more training time is needed\n",
    "\n",
    "input_shape = (28, 28, 1)\n",
    "left_input = Input(input_shape)\n",
    "right_input = Input(input_shape)\n",
    "#build convnet to use in each siamese 'leg'\n",
    "convnet = Sequential()\n",
    "convnet.add(Conv2D(64,(3,3),activation='relu',input_shape=input_shape,\n",
    "                   kernel_initializer=W_init,kernel_regularizer=l2(1e-4)))\n",
    "convnet.add(Conv2D(128,(3,3),activation='relu',\n",
    "                   kernel_regularizer=l2(1e-4),kernel_initializer=W_init,bias_initializer=b_init))\n",
    "convnet.add(MaxPooling2D())\n",
    "convnet.add(Conv2D(32,(3,3),activation='relu',kernel_initializer=W_init,kernel_regularizer=l2(1e-4),bias_initializer=b_init))\n",
    "convnet.add(Flatten())\n",
    "convnet.add(Dense(128,activation=\"sigmoid\",kernel_regularizer=l2(1e-4),kernel_initializer=W_init,bias_initializer=b_init))\n",
    "#encode each of the two inputs into a vector with the convnet\n",
    "encoded_l = convnet(left_input)\n",
    "encoded_r = convnet(right_input)\n",
    "#merge two encoded inputs with the l1 distance between them\n",
    "L1_distance = lambda x: (x[0]-x[1])\n",
    "both = merge([encoded_l,encoded_r], mode = L1_distance, output_shape=lambda x: x[0])\n",
    "prediction = Dense(1,activation='sigmoid',bias_initializer=b_init)(both)\n",
    "\n",
    "\n",
    "siamese_net = Model(input=[left_input,right_input],output=prediction)\n",
    "# optimizer = SGD(0.0004,momentum=0.6,nesterov=True,decay=0.0003)\n",
    "optimizer = Adam(0.0001)\n",
    "siamese_net.compile(loss=\"binary_crossentropy\",optimizer=optimizer)\n",
    "\n",
    "siamese_net.count_params()\n"
   ]
  },
  {
   "cell_type": "code",
   "execution_count": 38,
   "metadata": {},
   "outputs": [],
   "source": [
    "class Siamese_Loader:\n",
    "    \"\"\"For loading batches and testing tasks to a siamese net\"\"\"\n",
    "    def __init__(self,Xtrain,Xval):\n",
    "        self.Xval = Xval\n",
    "        self.Xtrain = Xtrain\n",
    "        self.n_classes,self.n_examples,self.w,self.h = Xtrain.shape\n",
    "        self.n_val,self.n_ex_val,_,_ = Xval.shape\n",
    "\n",
    "    def get_batch(self,n):\n",
    "        \"\"\"Create batch of n pairs, half same class, half different class\"\"\"\n",
    "        categories = rng.choice(self.n_classes,size=(n,),replace=False)\n",
    "        pairs=[np.zeros((n, self.h, self.w,1)) for i in range(2)]\n",
    "        targets=np.zeros((n,))\n",
    "        targets[n//3:] = 1\n",
    "        for i in range(n):\n",
    "            category = categories[i]\n",
    "            idx_1 = rng.randint(0,self.n_examples)\n",
    "            pairs[0][i,:,:,:] = self.Xtrain[category,idx_1].reshape(self.w,self.h,1)\n",
    "            idx_2 = rng.randint(0,self.n_examples)\n",
    "            #pick images of same class for 1st half, different for 2nd\n",
    "            category_2 = category if i > n//3 else (category + rng.randint(1,self.n_classes-1)) % self.n_classes\n",
    "            if category_2 < category:\n",
    "                targets[i] = 0\n",
    "            elif category_2 > category:\n",
    "                targets[i] = 1\n",
    "            else:\n",
    "                targets[i] = 0.5\n",
    "            pairs[1][i,:,:,:] = self.Xtrain[category_2,idx_2].reshape(self.w,self.h,1)\n",
    "        return pairs, targets\n",
    "\n",
    "    def make_oneshot_task(self,N):\n",
    "        \"\"\"Create pairs of test image, support set for testing N way one-shot learning. \"\"\"\n",
    "        categories = rng.choice(self.n_val, size=(N,),replace=False)\n",
    "        indices = rng.randint(0,self.n_ex_val,size=(N,))\n",
    "        true_category = categories[0]\n",
    "        ex1, ex2 = rng.choice(self.n_ex_val,replace=False,size=(2,))\n",
    "        test_image = np.asarray([self.Xval[true_category,ex1,:,:]]*N).reshape(N,self.w,self.h,1)\n",
    "        support_set = self.Xval[categories,indices,:,:]\n",
    "        support_set[0,:,:] = self.Xval[true_category,ex2]\n",
    "        support_set = support_set.reshape(N,self.w,self.h,1)\n",
    "        pairs = [test_image,support_set]\n",
    "        print true_category\n",
    "        print categories\n",
    "        targets = np.zeros((N,))\n",
    "        targets[0] = 1\n",
    "        return pairs, targets, true_category, categories\n",
    "\n",
    "    def test_oneshot(self,model,N,k,verbose=0):\n",
    "        \"\"\"Test average N way oneshot learning accuracy of a siamese neural net over k one-shot tasks\"\"\"\n",
    "        n_correct = 0\n",
    "        TEST_THRES = 0.3\n",
    "        if verbose:\n",
    "            print(\"Evaluating model on {} unique {} way one-shot learning tasks ...\".format(k,N))\n",
    "        for i in range(k):\n",
    "            inputs, targets, true_category, categories = self.make_oneshot_task(N)\n",
    "            probs = model.predict(inputs)\n",
    "            print probs\n",
    "            correct = True\n",
    "            for idx in range(0, len(probs)):\n",
    "                if TEST_THRES < probs[idx] and probs[idx] < 1-TEST_THRES and true_category == categories[idx]:\n",
    "                    correct = correct and True\n",
    "                elif TEST_THRES <= probs[idx] and categories[idx] > true_category:\n",
    "                    correct = correct and True\n",
    "                elif TEST_THRES >= probs[idx] and categories[idx] < true_category:\n",
    "                    correct = correct and True\n",
    "                else:\n",
    "                    correct = False\n",
    "                    break\n",
    "            if correct == True:\n",
    "                n_correct+=1\n",
    "        percent_correct = (100.0*n_correct / k)\n",
    "        if verbose:\n",
    "            print(\"Got an average of {}% {} way one-shot learning accuracy\".format(percent_correct,N))\n",
    "        return percent_correct, inputs"
   ]
  },
  {
   "cell_type": "code",
   "execution_count": null,
   "metadata": {},
   "outputs": [],
   "source": [
    "# Training and Refine the model\n",
    "evaluate_every = 100\n",
    "loss_every=300\n",
    "batch_size = 3\n",
    "N_way = 3\n",
    "n_val = 3\n",
    "K.get_session().run(tf.global_variables_initializer())\n",
    "# siamese_net.load_weights(\"./model/model.hdf5\") # Refine the model with an trained model\n",
    "best = 0.0\n",
    "\n",
    "train_set = preprocee_mnist(mnist.train.images, mnist.train.labels)\n",
    "val_set = preprocee_mnist(mnist.validation.images, mnist.validation.labels)\n",
    "loader = Siamese_Loader(train_set, val_set)\n",
    "\n",
    "for i in range(1100000):\n",
    "    (inputs,targets)=loader.get_batch(batch_size)\n",
    "    loss=siamese_net.train_on_batch(inputs,targets)\n",
    "    if i % evaluate_every == 0:\n",
    "        val_acc, _ = loader.test_oneshot(siamese_net,N_way,n_val,verbose=True)\n",
    "        if val_acc >= best:\n",
    "            print(\"saving\")\n",
    "            siamese_net.save('./model/model.hdf5')\n",
    "            best=val_acc\n",
    "\n",
    "    if i % loss_every == 0:\n",
    "        print(\"iteration {}, training loss: {:.2f},\".format(i,loss))"
   ]
  },
  {
   "cell_type": "code",
   "execution_count": 42,
   "metadata": {},
   "outputs": [
    {
     "name": "stdout",
     "output_type": "stream",
     "text": [
      "0\n",
      "[0 2 1]\n",
      "[[ 0.53272241]\n",
      " [ 0.9997316 ]\n",
      " [ 0.99425703]]\n",
      "(3, 28, 28, 1)\n"
     ]
    },
    {
     "data": {
      "image/png": "[encoded data removed]",
      "text/plain": [
       "<matplotlib.figure.Figure at 0x11af298d0>"
      ]
     },
     "metadata": {},
     "output_type": "display_data"
    },
    {
     "name": "stdout",
     "output_type": "stream",
     "text": [
      "Got an accuracy of 100.0%\n"
     ]
    }
   ],
   "source": [
    "# Testing Phrase\n",
    "import matplotlib.pyplot as plt\n",
    "TEST_THRES = 0.3\n",
    "train_set = preprocee_mnist(mnist.train.images, mnist.train.labels)\n",
    "val_set = preprocee_mnist(mnist.validation.images, mnist.validation.labels)\n",
    "siamese_net.load_weights('./model/model.hdf5')\n",
    "loader = Siamese_Loader(train_set, train_set)\n",
    "correct = 0\n",
    "num_pairs = 1\n",
    "for i in range(num_pairs):\n",
    "    res, inputs = loader.test_oneshot(model = siamese_net, N = 3, k = 1,verbose=0)\n",
    "    print inputs[0].shape\n",
    "    if res == 100:\n",
    "        correct += 1\n",
    "    plt.subplot(3,2,1)\n",
    "    plt.imshow(inputs[0][0][:,:,0])\n",
    "    plt.subplot(3,2,2)\n",
    "    plt.imshow(inputs[1][0][:,:,0])\n",
    "    plt.subplot(3,2,3)\n",
    "    plt.imshow(inputs[0][1][:,:,0])\n",
    "    plt.subplot(3,2,4)\n",
    "    plt.imshow(inputs[1][1][:,:,0])\n",
    "    plt.subplot(3,2,5)\n",
    "    plt.imshow(inputs[0][2][:,:,0])\n",
    "    plt.subplot(3,2,6)\n",
    "    plt.imshow(inputs[1][2][:,:,0])\n",
    "    plt.show()\n",
    "print(\"Got an accuracy of {}%\".format(100.0 * correct/num_pairs))"
   ]
  },
  {
   "cell_type": "code",
   "execution_count": null,
   "metadata": {},
   "outputs": [],
   "source": []
  }
 ],
 "metadata": {
  "kernelspec": {
   "display_name": "Python 2",
   "language": "python",
   "name": "python2"
  },
  "language_info": {
   "codemirror_mode": {
    "name": "ipython",
    "version": 2
   },
   "file_extension": ".py",
   "mimetype": "text/x-python",
   "name": "python",
   "nbconvert_exporter": "python",
   "pygments_lexer": "ipython2",
   "version": "2.7.14"
  }
 },
 "nbformat": 4,
 "nbformat_minor": 2
}
